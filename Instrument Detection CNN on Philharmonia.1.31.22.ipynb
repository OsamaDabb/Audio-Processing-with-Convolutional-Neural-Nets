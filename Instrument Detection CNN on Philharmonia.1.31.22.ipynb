{
 "cells": [
  {
   "cell_type": "code",
   "execution_count": 1,
   "id": "b9b31c96",
   "metadata": {},
   "outputs": [],
   "source": [
    "import matplotlib.pyplot as plt\n",
    "import numpy as np\n",
    "import seaborn as sns\n",
    "import pandas as pd\n",
    "\n",
    "import tensorflow as tf\n",
    "\n",
    "\n",
    "import librosa, librosa.display, os"
   ]
  },
  {
   "cell_type": "markdown",
   "id": "08d69500",
   "metadata": {},
   "source": [
    "# Loading the waveforms and creating a labels array"
   ]
  },
  {
   "cell_type": "code",
   "execution_count": 2,
   "id": "3c81811e",
   "metadata": {
    "scrolled": false
   },
   "outputs": [],
   "source": [
    "#list of waveform lists to be loaded by librosa.load()\n",
    "waveforms = []\n",
    "sample_rates = []\n",
    "# list of lists containing the target labels for the lists in [waveforms]\n",
    "labels = []\n",
    "\n",
    "\n",
    "cur_dir = \"Philharmonia/\" \n",
    "\n",
    "for filename in os.listdir(cur_dir):\n",
    "    if(filename[0]=='.'):\n",
    "        continue\n",
    "    y, sr = librosa.load(cur_dir + \"/\" + filename)\n",
    "    waveforms.append(y)\n",
    "    sample_rates.append(sr)\n",
    "    labels.append(int(filename[:3]))"
   ]
  },
  {
   "cell_type": "code",
   "execution_count": 3,
   "id": "6e779d88",
   "metadata": {},
   "outputs": [],
   "source": [
    "SR = sample_rates[0]"
   ]
  },
  {
   "cell_type": "code",
   "execution_count": 4,
   "id": "e1fe046e",
   "metadata": {},
   "outputs": [],
   "source": [
    "clip_lens = []\n",
    "for waveform in waveforms:\n",
    "    clip_lens.append(len(waveform))"
   ]
  },
  {
   "cell_type": "code",
   "execution_count": 5,
   "id": "37c228b5",
   "metadata": {},
   "outputs": [
    {
     "name": "stdout",
     "output_type": "stream",
     "text": [
      "12267\n"
     ]
    }
   ],
   "source": [
    "count = 0\n",
    "for length in clip_lens:\n",
    "    if length > 11025:\n",
    "        count += 1\n",
    "print(count)"
   ]
  },
  {
   "cell_type": "code",
   "execution_count": 6,
   "id": "b47b67e4",
   "metadata": {},
   "outputs": [
    {
     "data": {
      "text/plain": [
       "12267"
      ]
     },
     "execution_count": 6,
     "metadata": {},
     "output_type": "execute_result"
    }
   ],
   "source": [
    "shortened_wvf = []\n",
    "shortened_labels = []\n",
    "count = 0\n",
    "\n",
    "for wvf in waveforms:\n",
    "    if len(wvf) >= 11025:\n",
    "        shortened_wvf.append(wvf[:11025])\n",
    "        shortened_labels.append(labels[count])\n",
    "    count += 1\n",
    "len(shortened_wvf)"
   ]
  },
  {
   "cell_type": "markdown",
   "id": "f0b8e31c",
   "metadata": {},
   "source": [
    "# Reformating labels/waveforms"
   ]
  },
  {
   "cell_type": "code",
   "execution_count": 7,
   "id": "c1f4454e",
   "metadata": {},
   "outputs": [],
   "source": [
    "from tensorflow.keras.utils import to_categorical\n",
    "\n",
    "cat_labels = to_categorical(shortened_labels)"
   ]
  },
  {
   "cell_type": "code",
   "execution_count": 8,
   "id": "1b167ef5",
   "metadata": {},
   "outputs": [],
   "source": [
    "shortened_wvf = np.asarray(shortened_wvf)\n",
    "cat_labels = np.asarray(cat_labels)"
   ]
  },
  {
   "cell_type": "code",
   "execution_count": 9,
   "id": "4e2ccfde",
   "metadata": {},
   "outputs": [],
   "source": [
    "np.save(\"shortened_wvf\",shortened_wvf)\n",
    "np.save(\"cat_labels\",cat_labels)"
   ]
  },
  {
   "cell_type": "markdown",
   "id": "bbceab90",
   "metadata": {},
   "source": [
    "Can start from next cell if already ran this once. "
   ]
  },
  {
   "cell_type": "code",
   "execution_count": 10,
   "id": "c7f39334",
   "metadata": {},
   "outputs": [],
   "source": [
    "shortened_wvf = np.load(\"shortened_wvf.npy\")\n",
    "cat_labels = np.load(\"cat_labels.npy\")"
   ]
  },
  {
   "cell_type": "markdown",
   "id": "779a2ba6",
   "metadata": {},
   "source": [
    "# Turning waveforms into dB scaled spectrograms"
   ]
  },
  {
   "cell_type": "code",
   "execution_count": 11,
   "id": "8897e17b",
   "metadata": {},
   "outputs": [],
   "source": [
    "mel_spectrograms = []\n",
    "\n",
    "for wvf in shortened_wvf:\n",
    "    mel_spectrograms.append(librosa.feature.melspectrogram(wvf,SR,\n",
    "                                                           n_fft=512,hop_length=256, power=1))\n",
    "#DO NOT convert to dB \n",
    "\n",
    "a = mel_spectrograms\n",
    "\n",
    "mel_spectrograms = np.asarray(mel_spectrograms)\n",
    "b = mel_spectrograms    \n",
    "mel_spect_shape = list(mel_spectrograms.shape)\n",
    "mel_spect_shape.append(1)\n",
    "\n",
    "mel_spectrograms = mel_spectrograms.reshape(mel_spect_shape)"
   ]
  },
  {
   "cell_type": "code",
   "execution_count": 12,
   "id": "88eeeecf",
   "metadata": {},
   "outputs": [
    {
     "data": {
      "text/plain": [
       "[12267, 128, 44, 1]"
      ]
     },
     "execution_count": 12,
     "metadata": {},
     "output_type": "execute_result"
    }
   ],
   "source": [
    "mel_spect_shape\n"
   ]
  },
  {
   "cell_type": "code",
   "execution_count": 42,
   "id": "bddc390d",
   "metadata": {},
   "outputs": [
    {
     "name": "stderr",
     "output_type": "stream",
     "text": [
      "/Users/snyder/opt/anaconda3/lib/python3.8/site-packages/librosa/display.py:974: MatplotlibDeprecationWarning: The 'basey' parameter of __init__() has been renamed 'base' since Matplotlib 3.3; support for the old name will be dropped two minor releases later.\n",
      "  scaler(mode, **kwargs)\n",
      "/Users/snyder/opt/anaconda3/lib/python3.8/site-packages/librosa/display.py:974: MatplotlibDeprecationWarning: The 'linthreshy' parameter of __init__() has been renamed 'linthresh' since Matplotlib 3.3; support for the old name will be dropped two minor releases later.\n",
      "  scaler(mode, **kwargs)\n"
     ]
    },
    {
     "data": {
      "text/plain": [
       "<matplotlib.colorbar.Colorbar at 0x7f977b503df0>"
      ]
     },
     "execution_count": 42,
     "metadata": {},
     "output_type": "execute_result"
    },
    {
     "data": {
      "image/png": "[encoded data removed]",
      "text/plain": [
       "<Figure size 432x288 with 2 Axes>"
      ]
     },
     "metadata": {
      "needs_background": "light"
     },
     "output_type": "display_data"
    }
   ],
   "source": [
    "librosa.display.specshow(mel_spectrograms[150].reshape(mel_spect_shape[1:-1]),\n",
    "                         y_axis='mel',  x_axis='time')\n",
    "plt.title('Mel Spectrogram')\n",
    "plt.colorbar()"
   ]
  },
  {
   "cell_type": "markdown",
   "id": "628cf8be",
   "metadata": {},
   "source": [
    "## Separating Test Data"
   ]
  },
  {
   "cell_type": "code",
   "execution_count": 14,
   "id": "4e2e76ed",
   "metadata": {},
   "outputs": [
    {
     "data": {
      "text/plain": [
       "(12267, 128, 44, 1)"
      ]
     },
     "execution_count": 14,
     "metadata": {},
     "output_type": "execute_result"
    }
   ],
   "source": [
    "mel_spectrograms.shape"
   ]
  },
  {
   "cell_type": "code",
   "execution_count": 15,
   "id": "9382f945",
   "metadata": {},
   "outputs": [
    {
     "data": {
      "text/plain": [
       "array([0., 1., 0., 0., 0., 0., 0., 0., 0., 0., 0., 0., 0., 0., 0., 0., 0.],\n",
       "      dtype=float32)"
      ]
     },
     "execution_count": 15,
     "metadata": {},
     "output_type": "execute_result"
    }
   ],
   "source": [
    "cat_labels[0]"
   ]
  },
  {
   "cell_type": "code",
   "execution_count": 16,
   "id": "4dbb9051",
   "metadata": {},
   "outputs": [],
   "source": [
    "from sklearn.model_selection import train_test_split\n",
    "\n",
    "X_train, X_test, y_train, y_test = train_test_split(mel_spectrograms, cat_labels, test_size=0.20, random_state=42)"
   ]
  },
  {
   "cell_type": "code",
   "execution_count": 17,
   "id": "548c9d47",
   "metadata": {},
   "outputs": [
    {
     "data": {
      "text/plain": [
       "(9813, 128, 44, 1)"
      ]
     },
     "execution_count": 17,
     "metadata": {},
     "output_type": "execute_result"
    }
   ],
   "source": [
    "X_train.shape"
   ]
  },
  {
   "cell_type": "code",
   "execution_count": 18,
   "id": "f84ae70c",
   "metadata": {},
   "outputs": [
    {
     "data": {
      "text/plain": [
       "(2454, 128, 44, 1)"
      ]
     },
     "execution_count": 18,
     "metadata": {},
     "output_type": "execute_result"
    }
   ],
   "source": [
    "X_test.shape"
   ]
  },
  {
   "cell_type": "code",
   "execution_count": 19,
   "id": "3f80de6c",
   "metadata": {},
   "outputs": [
    {
     "data": {
      "text/plain": [
       "(9813, 17)"
      ]
     },
     "execution_count": 19,
     "metadata": {},
     "output_type": "execute_result"
    }
   ],
   "source": [
    "y_train.shape"
   ]
  },
  {
   "cell_type": "code",
   "execution_count": 20,
   "id": "05fa1d85",
   "metadata": {},
   "outputs": [
    {
     "data": {
      "text/plain": [
       "(2454, 17)"
      ]
     },
     "execution_count": 20,
     "metadata": {},
     "output_type": "execute_result"
    }
   ],
   "source": [
    "y_test.shape"
   ]
  },
  {
   "cell_type": "markdown",
   "id": "4192f318",
   "metadata": {},
   "source": [
    "## Model Creation"
   ]
  },
  {
   "cell_type": "code",
   "execution_count": 21,
   "id": "cd6e65ec",
   "metadata": {},
   "outputs": [
    {
     "data": {
      "text/plain": [
       "[128, 44, 1]"
      ]
     },
     "execution_count": 21,
     "metadata": {},
     "output_type": "execute_result"
    }
   ],
   "source": [
    "mel_spect_shape[1:]"
   ]
  },
  {
   "cell_type": "code",
   "execution_count": 22,
   "id": "00572a0f",
   "metadata": {},
   "outputs": [],
   "source": [
    "from tensorflow.keras.models import Sequential\n",
    "from tensorflow.keras.layers import Dense, Dropout, Conv2D, MaxPool2D, Flatten, BatchNormalization\n",
    "from tensorflow.keras.callbacks import EarlyStopping"
   ]
  },
  {
   "cell_type": "code",
   "execution_count": 30,
   "id": "fe93e7d2",
   "metadata": {
    "scrolled": false
   },
   "outputs": [],
   "source": [
    "model = Sequential()"
   ]
  },
  {
   "cell_type": "code",
   "execution_count": 31,
   "id": "3c855321",
   "metadata": {},
   "outputs": [],
   "source": [
    "#90% acc time convoluting\n",
    "model.add(Conv2D(input_shape=mel_spect_shape[1:],\n",
    "                filters=128,kernel_size=(1,4),\n",
    "                activation=\"relu\"\n",
    "                ))\n",
    "model.add(MaxPool2D(pool_size=(1,2)))\n",
    "model.add(Dropout(0.25))\n",
    "\n",
    "model.add(Conv2D(filters=32, kernel_size=(1,4),\n",
    "                activation=\"relu\"))\n",
    "model.add(MaxPool2D(pool_size=(1,2)))\n",
    "model.add(Dropout(0.25))\n",
    "\n",
    "model.add(Conv2D(filters=1, kernel_size=(1,4),\n",
    "                activation=\"relu\"))\n",
    "model.add(MaxPool2D(pool_size=(1,4)))\n",
    "model.add(Dropout(0.25))\n",
    "\n",
    "model.add(Flatten())\n",
    "\n",
    "model.add(Dense(128,activation=\"relu\"))\n",
    "model.add(Dropout(0.3))\n",
    "\n",
    "model.add(Dense(64,activation=\"relu\"))\n",
    "model.add(Dropout(0.3))\n",
    "\n",
    "model.add(Dense(17,activation=\"softmax\"))"
   ]
  },
  {
   "cell_type": "code",
   "execution_count": 32,
   "id": "c52f9a7c",
   "metadata": {},
   "outputs": [],
   "source": [
    "model.compile(optimizer=\"adam\",loss=\"categorical_crossentropy\",metrics=[\"accuracy\"])"
   ]
  },
  {
   "cell_type": "code",
   "execution_count": 33,
   "id": "1aab4bbc",
   "metadata": {
    "scrolled": false
   },
   "outputs": [
    {
     "name": "stdout",
     "output_type": "stream",
     "text": [
      "Model: \"sequential_1\"\n",
      "_________________________________________________________________\n",
      "Layer (type)                 Output Shape              Param #   \n",
      "=================================================================\n",
      "conv2d_4 (Conv2D)            (None, 128, 41, 128)      640       \n",
      "_________________________________________________________________\n",
      "max_pooling2d_3 (MaxPooling2 (None, 128, 20, 128)      0         \n",
      "_________________________________________________________________\n",
      "dropout_5 (Dropout)          (None, 128, 20, 128)      0         \n",
      "_________________________________________________________________\n",
      "conv2d_5 (Conv2D)            (None, 128, 17, 32)       16416     \n",
      "_________________________________________________________________\n",
      "max_pooling2d_4 (MaxPooling2 (None, 128, 8, 32)        0         \n",
      "_________________________________________________________________\n",
      "dropout_6 (Dropout)          (None, 128, 8, 32)        0         \n",
      "_________________________________________________________________\n",
      "conv2d_6 (Conv2D)            (None, 128, 5, 1)         129       \n",
      "_________________________________________________________________\n",
      "max_pooling2d_5 (MaxPooling2 (None, 128, 1, 1)         0         \n",
      "_________________________________________________________________\n",
      "dropout_7 (Dropout)          (None, 128, 1, 1)         0         \n",
      "_________________________________________________________________\n",
      "flatten_1 (Flatten)          (None, 128)               0         \n",
      "_________________________________________________________________\n",
      "dense_3 (Dense)              (None, 128)               16512     \n",
      "_________________________________________________________________\n",
      "dropout_8 (Dropout)          (None, 128)               0         \n",
      "_________________________________________________________________\n",
      "dense_4 (Dense)              (None, 64)                8256      \n",
      "_________________________________________________________________\n",
      "dropout_9 (Dropout)          (None, 64)                0         \n",
      "_________________________________________________________________\n",
      "dense_5 (Dense)              (None, 17)                1105      \n",
      "=================================================================\n",
      "Total params: 43,058\n",
      "Trainable params: 43,058\n",
      "Non-trainable params: 0\n",
      "_________________________________________________________________\n"
     ]
    }
   ],
   "source": [
    "model.summary()"
   ]
  },
  {
   "cell_type": "code",
   "execution_count": 34,
   "id": "81d73c99",
   "metadata": {},
   "outputs": [],
   "source": [
    "EarlyStop = EarlyStopping(monitor=\"val_loss\",patience=5)"
   ]
  },
  {
   "cell_type": "code",
   "execution_count": 51,
   "id": "eb82e63e",
   "metadata": {
    "scrolled": false
   },
   "outputs": [
    {
     "name": "stdout",
     "output_type": "stream",
     "text": [
      "Epoch 1/100\n",
      "25/25 [==============================] - 42s 2s/step - loss: 0.6164 - accuracy: 0.8012 - val_loss: 0.3935 - val_accuracy: 0.8810\n",
      "Epoch 2/100\n",
      "25/25 [==============================] - 44s 2s/step - loss: 0.5889 - accuracy: 0.8119 - val_loss: 0.3893 - val_accuracy: 0.8810\n",
      "Epoch 3/100\n",
      "25/25 [==============================] - 42s 2s/step - loss: 0.6106 - accuracy: 0.8066 - val_loss: 0.3539 - val_accuracy: 0.8965\n",
      "Epoch 4/100\n",
      "25/25 [==============================] - 42s 2s/step - loss: 0.6120 - accuracy: 0.8040 - val_loss: 0.3856 - val_accuracy: 0.8818\n",
      "Epoch 5/100\n",
      "25/25 [==============================] - 42s 2s/step - loss: 0.6067 - accuracy: 0.8007 - val_loss: 0.3629 - val_accuracy: 0.8835\n",
      "Epoch 6/100\n",
      "25/25 [==============================] - 42s 2s/step - loss: 0.6085 - accuracy: 0.8094 - val_loss: 0.3897 - val_accuracy: 0.8818\n",
      "Epoch 7/100\n",
      "25/25 [==============================] - 42s 2s/step - loss: 0.6100 - accuracy: 0.8026 - val_loss: 0.3967 - val_accuracy: 0.8773\n",
      "Epoch 8/100\n",
      "25/25 [==============================] - 42s 2s/step - loss: 0.6028 - accuracy: 0.8050 - val_loss: 0.3852 - val_accuracy: 0.8818\n",
      "Epoch 9/100\n",
      "25/25 [==============================] - 42s 2s/step - loss: 0.6107 - accuracy: 0.8051 - val_loss: 0.3789 - val_accuracy: 0.8847\n",
      "Epoch 10/100\n",
      "25/25 [==============================] - 42s 2s/step - loss: 0.6050 - accuracy: 0.8094 - val_loss: 0.3685 - val_accuracy: 0.8892\n",
      "Epoch 11/100\n",
      "25/25 [==============================] - 42s 2s/step - loss: 0.6009 - accuracy: 0.8053 - val_loss: 0.3719 - val_accuracy: 0.8843\n",
      "Epoch 12/100\n",
      "25/25 [==============================] - 42s 2s/step - loss: 0.6073 - accuracy: 0.8072 - val_loss: 0.3793 - val_accuracy: 0.8835\n",
      "Epoch 13/100\n",
      "25/25 [==============================] - 42s 2s/step - loss: 0.6190 - accuracy: 0.7991 - val_loss: 0.4834 - val_accuracy: 0.8476\n",
      "Epoch 14/100\n",
      "25/25 [==============================] - 42s 2s/step - loss: 0.6300 - accuracy: 0.7994 - val_loss: 0.3789 - val_accuracy: 0.8835\n",
      "Epoch 15/100\n",
      "25/25 [==============================] - 42s 2s/step - loss: 0.6116 - accuracy: 0.8034 - val_loss: 0.3616 - val_accuracy: 0.8924\n",
      "Epoch 16/100\n",
      "25/25 [==============================] - 42s 2s/step - loss: 0.5950 - accuracy: 0.8137 - val_loss: 0.3774 - val_accuracy: 0.8818\n",
      "Epoch 17/100\n",
      "25/25 [==============================] - 42s 2s/step - loss: 0.6060 - accuracy: 0.8055 - val_loss: 0.3795 - val_accuracy: 0.8843\n",
      "Epoch 18/100\n",
      "25/25 [==============================] - 42s 2s/step - loss: 0.6007 - accuracy: 0.8056 - val_loss: 0.3636 - val_accuracy: 0.8932\n",
      "Epoch 19/100\n",
      "25/25 [==============================] - 42s 2s/step - loss: 0.6946 - accuracy: 0.7830 - val_loss: 0.4970 - val_accuracy: 0.8452\n",
      "Epoch 20/100\n",
      "25/25 [==============================] - 42s 2s/step - loss: 0.6496 - accuracy: 0.7948 - val_loss: 0.4029 - val_accuracy: 0.8798\n",
      "Epoch 21/100\n",
      "25/25 [==============================] - 42s 2s/step - loss: 0.6019 - accuracy: 0.8035 - val_loss: 0.3838 - val_accuracy: 0.8810\n",
      "Epoch 22/100\n",
      "25/25 [==============================] - 42s 2s/step - loss: 0.5920 - accuracy: 0.8068 - val_loss: 0.3872 - val_accuracy: 0.8802\n",
      "Epoch 23/100\n",
      "25/25 [==============================] - 42s 2s/step - loss: 0.6239 - accuracy: 0.7969 - val_loss: 0.3766 - val_accuracy: 0.8810\n",
      "Epoch 24/100\n",
      "25/25 [==============================] - 42s 2s/step - loss: 0.6268 - accuracy: 0.7948 - val_loss: 0.3807 - val_accuracy: 0.8839\n",
      "Epoch 25/100\n",
      "25/25 [==============================] - 42s 2s/step - loss: 0.6252 - accuracy: 0.7974 - val_loss: 0.3708 - val_accuracy: 0.8920\n",
      "Epoch 26/100\n",
      "25/25 [==============================] - 42s 2s/step - loss: 0.5848 - accuracy: 0.8161 - val_loss: 0.3522 - val_accuracy: 0.8961\n",
      "Epoch 27/100\n",
      "25/25 [==============================] - 42s 2s/step - loss: 0.5908 - accuracy: 0.8134 - val_loss: 0.3811 - val_accuracy: 0.8851\n",
      "Epoch 28/100\n",
      "25/25 [==============================] - 42s 2s/step - loss: 0.5914 - accuracy: 0.8075 - val_loss: 0.3678 - val_accuracy: 0.8863\n",
      "Epoch 29/100\n",
      "25/25 [==============================] - 42s 2s/step - loss: 0.6066 - accuracy: 0.8083 - val_loss: 0.4181 - val_accuracy: 0.8643\n",
      "Epoch 30/100\n",
      "25/25 [==============================] - 42s 2s/step - loss: 0.6512 - accuracy: 0.7903 - val_loss: 0.3738 - val_accuracy: 0.8855\n",
      "Epoch 31/100\n",
      "25/25 [==============================] - 42s 2s/step - loss: 0.6091 - accuracy: 0.8039 - val_loss: 0.3792 - val_accuracy: 0.8810\n",
      "Epoch 32/100\n",
      "25/25 [==============================] - 42s 2s/step - loss: 0.5911 - accuracy: 0.8096 - val_loss: 0.3547 - val_accuracy: 0.8863\n",
      "Epoch 33/100\n",
      "25/25 [==============================] - 41s 2s/step - loss: 0.5863 - accuracy: 0.8131 - val_loss: 0.3681 - val_accuracy: 0.8883\n",
      "Epoch 34/100\n",
      "25/25 [==============================] - 42s 2s/step - loss: 0.5834 - accuracy: 0.8120 - val_loss: 0.3529 - val_accuracy: 0.8953\n",
      "Epoch 35/100\n",
      "25/25 [==============================] - 41s 2s/step - loss: 0.5834 - accuracy: 0.8144 - val_loss: 0.3738 - val_accuracy: 0.8822\n",
      "Epoch 36/100\n",
      "25/25 [==============================] - 41s 2s/step - loss: 0.5737 - accuracy: 0.8170 - val_loss: 0.3775 - val_accuracy: 0.8826\n",
      "Epoch 37/100\n",
      "25/25 [==============================] - 42s 2s/step - loss: 0.5867 - accuracy: 0.8098 - val_loss: 0.3469 - val_accuracy: 0.8961\n",
      "Epoch 38/100\n",
      "25/25 [==============================] - 41s 2s/step - loss: 0.5787 - accuracy: 0.8151 - val_loss: 0.3623 - val_accuracy: 0.8883\n",
      "Epoch 39/100\n",
      "25/25 [==============================] - 41s 2s/step - loss: 0.6111 - accuracy: 0.8072 - val_loss: 0.3734 - val_accuracy: 0.8863\n",
      "Epoch 40/100\n",
      "25/25 [==============================] - 42s 2s/step - loss: 0.6088 - accuracy: 0.8039 - val_loss: 0.3623 - val_accuracy: 0.8879\n",
      "Epoch 41/100\n",
      "25/25 [==============================] - 41s 2s/step - loss: 0.5949 - accuracy: 0.8120 - val_loss: 0.3550 - val_accuracy: 0.8875\n",
      "Epoch 42/100\n",
      "25/25 [==============================] - 41s 2s/step - loss: 0.5909 - accuracy: 0.8116 - val_loss: 0.3670 - val_accuracy: 0.8879\n",
      "Epoch 43/100\n",
      "25/25 [==============================] - 42s 2s/step - loss: 0.5884 - accuracy: 0.8152 - val_loss: 0.4269 - val_accuracy: 0.8643\n",
      "Epoch 44/100\n",
      "25/25 [==============================] - 42s 2s/step - loss: 0.6032 - accuracy: 0.8076 - val_loss: 0.3576 - val_accuracy: 0.8904\n",
      "Epoch 45/100\n",
      "25/25 [==============================] - 41s 2s/step - loss: 0.5904 - accuracy: 0.8129 - val_loss: 0.3539 - val_accuracy: 0.8908\n",
      "Epoch 46/100\n",
      "25/25 [==============================] - 42s 2s/step - loss: 0.5995 - accuracy: 0.8127 - val_loss: 0.3661 - val_accuracy: 0.8892\n",
      "Epoch 47/100\n",
      "25/25 [==============================] - 42s 2s/step - loss: 0.5953 - accuracy: 0.8072 - val_loss: 0.3890 - val_accuracy: 0.8761\n",
      "Epoch 48/100\n",
      "25/25 [==============================] - 42s 2s/step - loss: 0.5794 - accuracy: 0.8143 - val_loss: 0.3436 - val_accuracy: 0.8961\n",
      "Epoch 49/100\n",
      "25/25 [==============================] - 42s 2s/step - loss: 0.5833 - accuracy: 0.8140 - val_loss: 0.3385 - val_accuracy: 0.8945\n",
      "Epoch 50/100\n",
      "25/25 [==============================] - 41s 2s/step - loss: 0.5789 - accuracy: 0.8125 - val_loss: 0.3926 - val_accuracy: 0.8798\n",
      "Epoch 51/100\n",
      "25/25 [==============================] - 41s 2s/step - loss: 0.5855 - accuracy: 0.8124 - val_loss: 0.3555 - val_accuracy: 0.8941\n",
      "Epoch 52/100\n",
      "25/25 [==============================] - 42s 2s/step - loss: 0.5875 - accuracy: 0.8088 - val_loss: 0.3753 - val_accuracy: 0.8855\n",
      "Epoch 53/100\n",
      "25/25 [==============================] - 41s 2s/step - loss: 0.5802 - accuracy: 0.8131 - val_loss: 0.3659 - val_accuracy: 0.8888\n",
      "Epoch 54/100\n",
      "25/25 [==============================] - 41s 2s/step - loss: 0.5982 - accuracy: 0.8112 - val_loss: 0.3578 - val_accuracy: 0.8949\n",
      "Epoch 55/100\n",
      "25/25 [==============================] - 41s 2s/step - loss: 0.5832 - accuracy: 0.8098 - val_loss: 0.3860 - val_accuracy: 0.8810\n",
      "Epoch 56/100\n",
      "25/25 [==============================] - 1851s 77s/step - loss: 0.5864 - accuracy: 0.8116 - val_loss: 0.3587 - val_accuracy: 0.8961\n",
      "Epoch 57/100\n",
      "25/25 [==============================] - 89s 4s/step - loss: 0.5743 - accuracy: 0.8112 - val_loss: 0.3530 - val_accuracy: 0.8969\n",
      "Epoch 58/100\n",
      "25/25 [==============================] - 101s 4s/step - loss: 0.5794 - accuracy: 0.8129 - val_loss: 0.3623 - val_accuracy: 0.8912\n"
     ]
    },
    {
     "name": "stdout",
     "output_type": "stream",
     "text": [
      "Epoch 59/100\n",
      "25/25 [==============================] - 100s 4s/step - loss: 0.5608 - accuracy: 0.8195 - val_loss: 0.3452 - val_accuracy: 0.8965\n",
      "Epoch 60/100\n",
      "25/25 [==============================] - 100s 4s/step - loss: 0.5768 - accuracy: 0.8158 - val_loss: 0.3431 - val_accuracy: 0.8985\n",
      "Epoch 61/100\n",
      "25/25 [==============================] - 100s 4s/step - loss: 0.5644 - accuracy: 0.8145 - val_loss: 0.3433 - val_accuracy: 0.8936\n",
      "Epoch 62/100\n",
      "25/25 [==============================] - 7279s 303s/step - loss: 0.5709 - accuracy: 0.8162 - val_loss: 0.3464 - val_accuracy: 0.8957\n",
      "Epoch 63/100\n",
      "25/25 [==============================] - 4581s 191s/step - loss: 0.5656 - accuracy: 0.8198 - val_loss: 0.3363 - val_accuracy: 0.9026\n",
      "Epoch 64/100\n",
      "25/25 [==============================] - 43s 2s/step - loss: 0.6000 - accuracy: 0.8076 - val_loss: 0.3856 - val_accuracy: 0.8835\n",
      "Epoch 65/100\n",
      "25/25 [==============================] - 42s 2s/step - loss: 0.5593 - accuracy: 0.8205 - val_loss: 0.3590 - val_accuracy: 0.8912\n",
      "Epoch 66/100\n",
      "25/25 [==============================] - 42s 2s/step - loss: 0.5800 - accuracy: 0.8147 - val_loss: 0.3536 - val_accuracy: 0.8945\n",
      "Epoch 67/100\n",
      "25/25 [==============================] - 42s 2s/step - loss: 0.6187 - accuracy: 0.8024 - val_loss: 0.3594 - val_accuracy: 0.8908\n",
      "Epoch 68/100\n",
      "25/25 [==============================] - 42s 2s/step - loss: 0.5896 - accuracy: 0.8146 - val_loss: 0.3982 - val_accuracy: 0.8769\n",
      "Epoch 69/100\n",
      "25/25 [==============================] - 42s 2s/step - loss: 0.5926 - accuracy: 0.8110 - val_loss: 0.3593 - val_accuracy: 0.8912\n",
      "Epoch 70/100\n",
      "25/25 [==============================] - 42s 2s/step - loss: 0.5746 - accuracy: 0.8171 - val_loss: 0.3550 - val_accuracy: 0.8953\n",
      "Epoch 71/100\n",
      "25/25 [==============================] - 42s 2s/step - loss: 0.5734 - accuracy: 0.8140 - val_loss: 0.3879 - val_accuracy: 0.8826\n",
      "Epoch 72/100\n",
      "25/25 [==============================] - 42s 2s/step - loss: 0.5588 - accuracy: 0.8187 - val_loss: 0.3502 - val_accuracy: 0.8916\n",
      "Epoch 73/100\n",
      "25/25 [==============================] - 42s 2s/step - loss: 0.5741 - accuracy: 0.8169 - val_loss: 0.3596 - val_accuracy: 0.8941\n",
      "Epoch 74/100\n",
      "25/25 [==============================] - 42s 2s/step - loss: 0.5901 - accuracy: 0.8125 - val_loss: 0.3571 - val_accuracy: 0.8912\n",
      "Epoch 75/100\n",
      "25/25 [==============================] - 42s 2s/step - loss: 0.5542 - accuracy: 0.8198 - val_loss: 0.3460 - val_accuracy: 0.8993\n",
      "Epoch 76/100\n",
      "25/25 [==============================] - 42s 2s/step - loss: 0.5712 - accuracy: 0.8173 - val_loss: 0.3546 - val_accuracy: 0.8908\n",
      "Epoch 77/100\n",
      "25/25 [==============================] - 42s 2s/step - loss: 0.5625 - accuracy: 0.8183 - val_loss: 0.3488 - val_accuracy: 0.8961\n",
      "Epoch 78/100\n",
      "25/25 [==============================] - 42s 2s/step - loss: 0.5647 - accuracy: 0.8146 - val_loss: 0.3411 - val_accuracy: 0.8993\n",
      "Epoch 79/100\n",
      "25/25 [==============================] - 42s 2s/step - loss: 0.5727 - accuracy: 0.8176 - val_loss: 0.3868 - val_accuracy: 0.8753\n",
      "Epoch 80/100\n",
      "25/25 [==============================] - 42s 2s/step - loss: 0.5863 - accuracy: 0.8129 - val_loss: 0.3405 - val_accuracy: 0.9010\n",
      "Epoch 81/100\n",
      "25/25 [==============================] - 42s 2s/step - loss: 0.5864 - accuracy: 0.8137 - val_loss: 0.3507 - val_accuracy: 0.8989\n",
      "Epoch 82/100\n",
      "25/25 [==============================] - 42s 2s/step - loss: 0.5596 - accuracy: 0.8150 - val_loss: 0.3624 - val_accuracy: 0.8867\n",
      "Epoch 83/100\n",
      "25/25 [==============================] - 42s 2s/step - loss: 0.5665 - accuracy: 0.8196 - val_loss: 0.3543 - val_accuracy: 0.8957\n",
      "Epoch 84/100\n",
      "25/25 [==============================] - 42s 2s/step - loss: 0.5593 - accuracy: 0.8238 - val_loss: 0.3305 - val_accuracy: 0.9071\n",
      "Epoch 85/100\n",
      "25/25 [==============================] - 42s 2s/step - loss: 0.5658 - accuracy: 0.8202 - val_loss: 0.3731 - val_accuracy: 0.8888\n",
      "Epoch 86/100\n",
      "25/25 [==============================] - 42s 2s/step - loss: 0.5623 - accuracy: 0.8174 - val_loss: 0.3703 - val_accuracy: 0.8892\n",
      "Epoch 87/100\n",
      "25/25 [==============================] - 42s 2s/step - loss: 0.5529 - accuracy: 0.8247 - val_loss: 0.3479 - val_accuracy: 0.8961\n",
      "Epoch 88/100\n",
      "25/25 [==============================] - 42s 2s/step - loss: 0.5491 - accuracy: 0.8232 - val_loss: 0.3389 - val_accuracy: 0.8977\n",
      "Epoch 89/100\n",
      "25/25 [==============================] - 42s 2s/step - loss: 0.5562 - accuracy: 0.8216 - val_loss: 0.3574 - val_accuracy: 0.8904\n",
      "Epoch 90/100\n",
      "25/25 [==============================] - 41s 2s/step - loss: 0.5904 - accuracy: 0.8100 - val_loss: 0.3773 - val_accuracy: 0.8822\n",
      "Epoch 91/100\n",
      "25/25 [==============================] - 42s 2s/step - loss: 0.5961 - accuracy: 0.8026 - val_loss: 0.3466 - val_accuracy: 0.8916\n",
      "Epoch 92/100\n",
      "25/25 [==============================] - 42s 2s/step - loss: 0.6061 - accuracy: 0.8050 - val_loss: 0.3862 - val_accuracy: 0.8753\n",
      "Epoch 93/100\n",
      "25/25 [==============================] - 42s 2s/step - loss: 0.5793 - accuracy: 0.8148 - val_loss: 0.3617 - val_accuracy: 0.8871\n",
      "Epoch 94/100\n",
      "25/25 [==============================] - 42s 2s/step - loss: 0.5619 - accuracy: 0.8251 - val_loss: 0.3644 - val_accuracy: 0.8863\n",
      "Epoch 95/100\n",
      "25/25 [==============================] - 42s 2s/step - loss: 0.5562 - accuracy: 0.8210 - val_loss: 0.3388 - val_accuracy: 0.8949\n",
      "Epoch 96/100\n",
      "25/25 [==============================] - 42s 2s/step - loss: 0.5712 - accuracy: 0.8156 - val_loss: 0.3563 - val_accuracy: 0.8879\n",
      "Epoch 97/100\n",
      "25/25 [==============================] - 42s 2s/step - loss: 0.5464 - accuracy: 0.8287 - val_loss: 0.3408 - val_accuracy: 0.8973\n",
      "Epoch 98/100\n",
      "25/25 [==============================] - 42s 2s/step - loss: 0.5635 - accuracy: 0.8158 - val_loss: 0.3554 - val_accuracy: 0.8916\n",
      "Epoch 99/100\n",
      "25/25 [==============================] - 42s 2s/step - loss: 0.5537 - accuracy: 0.8198 - val_loss: 0.3616 - val_accuracy: 0.8879\n",
      "Epoch 100/100\n",
      "25/25 [==============================] - 42s 2s/step - loss: 0.5546 - accuracy: 0.8274 - val_loss: 0.3378 - val_accuracy: 0.9002\n"
     ]
    },
    {
     "data": {
      "text/plain": [
       "<tensorflow.python.keras.callbacks.History at 0x7f9720ea41c0>"
      ]
     },
     "execution_count": 51,
     "metadata": {},
     "output_type": "execute_result"
    }
   ],
   "source": [
    "model.fit(X_train,y_train,epochs=100,batch_size=400,validation_data=(X_test,y_test))"
   ]
  },
  {
   "cell_type": "code",
   "execution_count": 53,
   "id": "abbf5c3f",
   "metadata": {
    "scrolled": false
   },
   "outputs": [
    {
     "data": {
      "text/plain": [
       "<matplotlib.legend.Legend at 0x7f9720c15730>"
      ]
     },
     "execution_count": 53,
     "metadata": {},
     "output_type": "execute_result"
    },
    {
     "data": {
      "image/png": "[encoded data removed]",
      "text/plain": [
       "<Figure size 432x288 with 1 Axes>"
      ]
     },
     "metadata": {
      "needs_background": "light"
     },
     "output_type": "display_data"
    }
   ],
   "source": [
    "losses = model.history.history\n",
    "\n",
    "plt.plot(losses[\"loss\"])\n",
    "plt.plot(losses[\"val_loss\"])\n",
    "\n",
    "plt.legend([\"loss\",\"validation loss\"])"
   ]
  },
  {
   "cell_type": "code",
   "execution_count": 54,
   "id": "b485fc89",
   "metadata": {},
   "outputs": [],
   "source": [
    "from sklearn.metrics import confusion_matrix, classification_report\n",
    "predictions = np.argmax(model.predict(X_test), axis=-1)"
   ]
  },
  {
   "cell_type": "code",
   "execution_count": 55,
   "id": "a99595b2",
   "metadata": {},
   "outputs": [
    {
     "data": {
      "text/plain": [
       "<AxesSubplot:>"
      ]
     },
     "execution_count": 55,
     "metadata": {},
     "output_type": "execute_result"
    },
    {
     "data": {
      "image/png": "[encoded data removed]",
      "text/plain": [
       "<Figure size 432x288 with 2 Axes>"
      ]
     },
     "metadata": {
      "needs_background": "light"
     },
     "output_type": "display_data"
    }
   ],
   "source": [
    "sns.heatmap(confusion_matrix(np.argmax(y_test,axis=1),predictions), robust=True,annot=True)"
   ]
  },
  {
   "cell_type": "code",
   "execution_count": 56,
   "id": "e8f58646",
   "metadata": {},
   "outputs": [
    {
     "name": "stdout",
     "output_type": "stream",
     "text": [
      "              precision    recall  f1-score   support\n",
      "\n",
      "           0       1.00      0.33      0.49        43\n",
      "           1       0.96      0.92      0.94       159\n",
      "           2       0.83      0.84      0.83        80\n",
      "           3       0.90      0.96      0.93       227\n",
      "           4       0.85      0.88      0.86       139\n",
      "           5       0.93      0.97      0.95       118\n",
      "           6       0.95      0.97      0.96       164\n",
      "           7       0.95      0.93      0.94       169\n",
      "           8       0.76      0.90      0.82       135\n",
      "           9       0.79      0.84      0.81       109\n",
      "          10       0.87      0.76      0.81       112\n",
      "          11       0.93      0.75      0.83       126\n",
      "          12       0.82      0.99      0.90       147\n",
      "          13       0.82      0.76      0.79        96\n",
      "          14       0.98      0.96      0.97       128\n",
      "          15       0.97      0.92      0.94       182\n",
      "          16       0.96      0.96      0.96       320\n",
      "\n",
      "    accuracy                           0.90      2454\n",
      "   macro avg       0.90      0.86      0.87      2454\n",
      "weighted avg       0.90      0.90      0.90      2454\n",
      "\n"
     ]
    }
   ],
   "source": [
    "print(classification_report(np.argmax(y_test,axis=1),predictions))"
   ]
  },
  {
   "cell_type": "code",
   "execution_count": 57,
   "id": "2f5856bc",
   "metadata": {},
   "outputs": [
    {
     "name": "stdout",
     "output_type": "stream",
     "text": [
      "Num GPUs Available:  0\n"
     ]
    }
   ],
   "source": [
    "import tensorflow as tf\n",
    "print(\"Num GPUs Available: \", len(tf.config.list_physical_devices('GPU')))"
   ]
  },
  {
   "cell_type": "code",
   "execution_count": 58,
   "id": "08a3dc8f",
   "metadata": {},
   "outputs": [
    {
     "data": {
      "text/plain": [
       "[]"
      ]
     },
     "execution_count": 58,
     "metadata": {},
     "output_type": "execute_result"
    }
   ],
   "source": [
    "tf.config.list_physical_devices(\"GPU\")"
   ]
  },
  {
   "cell_type": "code",
   "execution_count": null,
   "id": "7ea9042d",
   "metadata": {},
   "outputs": [],
   "source": []
  },
  {
   "cell_type": "code",
   "execution_count": null,
   "id": "8615a8d7",
   "metadata": {},
   "outputs": [],
   "source": []
  }
 ],
 "metadata": {
  "kernelspec": {
   "display_name": "Python 3",
   "language": "python",
   "name": "python3"
  },
  "language_info": {
   "codemirror_mode": {
    "name": "ipython",
    "version": 3
   },
   "file_extension": ".py",
   "mimetype": "text/x-python",
   "name": "python",
   "nbconvert_exporter": "python",
   "pygments_lexer": "ipython3",
   "version": "3.8.8"
  }
 },
 "nbformat": 4,
 "nbformat_minor": 5
}
